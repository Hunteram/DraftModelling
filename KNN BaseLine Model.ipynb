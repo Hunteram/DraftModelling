{
 "cells": [
  {
   "cell_type": "code",
   "execution_count": 1,
   "metadata": {},
   "outputs": [],
   "source": [
    "### Import all the necessary modules\n",
    "import pandas as pd\n",
    "import numpy as np\n",
    "from sklearn.neighbors import KNeighborsClassifier\n",
    "from sklearn.model_selection import train_test_split\n",
    "from sklearn.metrics import f1_score\n",
    "from sklearn.preprocessing import LabelEncoder"
   ]
  },
  {
   "cell_type": "code",
   "execution_count": 2,
   "metadata": {},
   "outputs": [],
   "source": [
    "### Import Data\n",
    "data = pd.read_csv(\"MergeDataPercentile.csv\")\n",
    "data = data[data['Pos'] != '0']\n",
    "data.dropna(axis=0,inplace=True,subset=['Advanced StatsDRB%'])\n",
    "\n",
    "hold_out = data[data['Highest Level Reached_x'] == '2017-18']\n",
    "keep_data = data[data['Highest Level Reached_x'].isin(['NBA','International'])]\n"
   ]
  },
  {
   "cell_type": "code",
   "execution_count": 3,
   "metadata": {},
   "outputs": [
    {
     "name": "stderr",
     "output_type": "stream",
     "text": [
      "C:\\Users\\Abhijit\\AppData\\Local\\Continuum\\Anaconda3\\lib\\site-packages\\sklearn\\preprocessing\\label.py:111: DataConversionWarning: A column-vector y was passed when a 1d array was expected. Please change the shape of y to (n_samples, ), for example using ravel().\n",
      "  y = column_or_1d(y, warn=True)\n"
     ]
    }
   ],
   "source": [
    "## Which Features to keep\n",
    "hold_out.columns.values\n",
    "feature_set_1 = ['Per GameGP', 'Per GameGS', 'Per GameMIN','Misc StatsOWS', 'Misc StatsDWS','Advanced StatsTS%', 'Advanced StatseFG%',\n",
    "       'Advanced StatsORB%', 'Advanced StatsDRB%', 'Advanced StatsTRB%',\n",
    "       'Advanced StatsAST%', 'Advanced StatsTOV%', 'Advanced StatsSTL%',\n",
    "       'Advanced StatsBLK%', 'Advanced StatsUSG%','Advanced StatsPPR', 'Advanced StatsPPS',\n",
    "       'Advanced StatsORtg', 'Advanced StatsDRtg', 'Advanced StatsPER','Pos']\n",
    "feature_set_2 = ['Per GameMIN','Misc StatsOWS','Misc StatsDWS','Pos','Per GameFG%', 'Per Game3PM',\n",
    "        'Per Game3P%', 'Per GameFTM',\n",
    "       'Per GameFT%', 'Per GameDEF', 'Per GameTRB',\n",
    "       'Per GameAST', 'Per GameSTL', 'Per GameBLK',\n",
    "       'Per GameTOV', 'Per GamePTS']\n",
    "feature_set_3 = list(set(feature_set_1).union(set(feature_set_2)))\n",
    "y_col = [\"Highest Level Reached_x\"]\n",
    "X = keep_data[feature_set_1]\n",
    "y = keep_data[y_col]\n",
    "le = LabelEncoder()\n",
    "y = le.fit_transform(y)"
   ]
  },
  {
   "cell_type": "code",
   "execution_count": 4,
   "metadata": {},
   "outputs": [],
   "source": [
    "## Encode the position, encode the response variable\n",
    "X_dummies = pd.get_dummies(X,columns=['Pos'])\n",
    "#y_dummies = pd.get_dummies(y)\n"
   ]
  },
  {
   "cell_type": "code",
   "execution_count": 5,
   "metadata": {},
   "outputs": [],
   "source": [
    "### Split into train, test, validation sets\n",
    "X_train, X_test, y_train, y_test = train_test_split(X_dummies, y, test_size=0.3, random_state=42)\n",
    "X_test,X_val,y_test,y_val = train_test_split(X_test, y_test, test_size=0.1, random_state=42)"
   ]
  },
  {
   "cell_type": "code",
   "execution_count": 6,
   "metadata": {},
   "outputs": [],
   "source": [
    "### penalty parameters to search over\n"
   ]
  },
  {
   "cell_type": "code",
   "execution_count": 7,
   "metadata": {},
   "outputs": [
    {
     "name": "stdout",
     "output_type": "stream",
     "text": [
      "0.831715210356\n",
      "0.859223300971\n",
      "0.878640776699\n",
      "0.877022653722\n",
      "0.881877022654\n",
      "0.877022653722\n",
      "0.880258899676\n",
      "0.878640776699\n",
      "0.880258899676\n",
      "0.880258899676\n",
      "0.878640776699\n",
      "0.877022653722\n",
      "0.880258899676\n",
      "0.877022653722\n",
      "0.877022653722\n",
      "0.878640776699\n",
      "0.875404530744\n",
      "0.875404530744\n",
      "0.875404530744\n",
      "0.875404530744\n",
      "0.875404530744\n",
      "0.875404530744\n",
      "0.875404530744\n",
      "0.875404530744\n",
      "0.875404530744\n",
      "0.875404530744\n",
      "0.875404530744\n",
      "0.875404530744\n",
      "0.875404530744\n",
      "0.875404530744\n",
      "0.877022653722\n",
      "0.875404530744\n",
      "0.875404530744\n",
      "0.877022653722\n",
      "0.877022653722\n",
      "0.877022653722\n",
      "0.877022653722\n",
      "0.877022653722\n",
      "0.877022653722\n",
      "0.875404530744\n",
      "Found Best Classifier!\n"
     ]
    }
   ],
   "source": [
    "### how to find the best logistic classifier\n",
    "best_F1 = 0\n",
    "best_classifier = None\n",
    "for k in np.arange(1,201,5):\n",
    "    classifier = KNeighborsClassifier(n_neighbors=k,weights = 'distance')\n",
    "    classifier.fit(X_train,y_train)\n",
    "    val_pred = classifier.predict(X_val)\n",
    "    score = np.sum(val_pred==y_val)/val_pred.shape[0]\n",
    "    print(score)\n",
    "    if score >= best_F1:\n",
    "        best_classifier = classifier\n",
    "        best_F1 = score\n",
    "print('Found Best Classifier!')\n",
    "\n",
    "        "
   ]
  },
  {
   "cell_type": "code",
   "execution_count": 8,
   "metadata": {},
   "outputs": [
    {
     "data": {
      "text/plain": [
       "0.87517985611510796"
      ]
     },
     "execution_count": 8,
     "metadata": {},
     "output_type": "execute_result"
    }
   ],
   "source": [
    "### Check for overfit\n",
    "pred_test = best_classifier.predict(X_test)\n",
    "test_f1 = f1_score(y_test,pred_test,average='micro')\n",
    "test_f1"
   ]
  },
  {
   "cell_type": "code",
   "execution_count": 9,
   "metadata": {},
   "outputs": [],
   "source": [
    "## We seem good here, now lets predict on the class of 2017-2018\n",
    "X_hold_out = hold_out[feature_set_1]\n",
    "X_hold_out = pd.get_dummies(X_hold_out,columns=['Pos'])\n",
    "#y_hold_out = hold_out[y_col]\n",
    "y_hold_out = best_classifier.predict(X_hold_out)"
   ]
  },
  {
   "cell_type": "code",
   "execution_count": 10,
   "metadata": {},
   "outputs": [
    {
     "data": {
      "text/plain": [
       "array([[ 0.94663269,  0.05336731],\n",
       "       [ 0.84169817,  0.15830183],\n",
       "       [ 1.        ,  0.        ],\n",
       "       ..., \n",
       "       [ 0.8060186 ,  0.1939814 ],\n",
       "       [ 0.90889718,  0.09110282],\n",
       "       [ 0.95081948,  0.04918052]])"
      ]
     },
     "execution_count": 10,
     "metadata": {},
     "output_type": "execute_result"
    }
   ],
   "source": [
    "best_classifier.predict_proba(X_hold_out)"
   ]
  },
  {
   "cell_type": "code",
   "execution_count": 11,
   "metadata": {},
   "outputs": [],
   "source": [
    "predictions = pd.DataFrame(data = y_hold_out,columns = ['prediction'])\n",
    "predictions['Name'] = hold_out['Name'].values\n",
    "predictions[['International','NBA']] = pd.DataFrame(best_classifier.predict_proba(X_hold_out))"
   ]
  },
  {
   "cell_type": "code",
   "execution_count": 12,
   "metadata": {},
   "outputs": [
    {
     "name": "stderr",
     "output_type": "stream",
     "text": [
      "C:\\Users\\Abhijit\\AppData\\Local\\Continuum\\Anaconda3\\lib\\site-packages\\pandas\\core\\ops.py:816: FutureWarning: elementwise comparison failed; returning scalar instead, but in the future will perform elementwise comparison\n",
      "  result = getattr(x, name)(y)\n"
     ]
    },
    {
     "ename": "TypeError",
     "evalue": "invalid type comparison",
     "output_type": "error",
     "traceback": [
      "\u001b[1;31m---------------------------------------------------------------------------\u001b[0m",
      "\u001b[1;31mTypeError\u001b[0m                                 Traceback (most recent call last)",
      "\u001b[1;32m<ipython-input-12-3f49143ad22e>\u001b[0m in \u001b[0;36m<module>\u001b[1;34m()\u001b[0m\n\u001b[1;32m----> 1\u001b[1;33m \u001b[0mpredictions\u001b[0m\u001b[1;33m[\u001b[0m\u001b[0mpredictions\u001b[0m\u001b[1;33m[\u001b[0m\u001b[1;34m'prediction'\u001b[0m\u001b[1;33m]\u001b[0m\u001b[1;33m==\u001b[0m\u001b[1;34m'NBA'\u001b[0m\u001b[1;33m]\u001b[0m\u001b[1;33m\u001b[0m\u001b[0m\n\u001b[0m",
      "\u001b[1;32m~\\AppData\\Local\\Continuum\\Anaconda3\\lib\\site-packages\\pandas\\core\\ops.py\u001b[0m in \u001b[0;36mwrapper\u001b[1;34m(self, other, axis)\u001b[0m\n\u001b[0;32m    877\u001b[0m \u001b[1;33m\u001b[0m\u001b[0m\n\u001b[0;32m    878\u001b[0m             \u001b[1;32mwith\u001b[0m \u001b[0mnp\u001b[0m\u001b[1;33m.\u001b[0m\u001b[0merrstate\u001b[0m\u001b[1;33m(\u001b[0m\u001b[0mall\u001b[0m\u001b[1;33m=\u001b[0m\u001b[1;34m'ignore'\u001b[0m\u001b[1;33m)\u001b[0m\u001b[1;33m:\u001b[0m\u001b[1;33m\u001b[0m\u001b[0m\n\u001b[1;32m--> 879\u001b[1;33m                 \u001b[0mres\u001b[0m \u001b[1;33m=\u001b[0m \u001b[0mna_op\u001b[0m\u001b[1;33m(\u001b[0m\u001b[0mvalues\u001b[0m\u001b[1;33m,\u001b[0m \u001b[0mother\u001b[0m\u001b[1;33m)\u001b[0m\u001b[1;33m\u001b[0m\u001b[0m\n\u001b[0m\u001b[0;32m    880\u001b[0m             \u001b[1;32mif\u001b[0m \u001b[0mis_scalar\u001b[0m\u001b[1;33m(\u001b[0m\u001b[0mres\u001b[0m\u001b[1;33m)\u001b[0m\u001b[1;33m:\u001b[0m\u001b[1;33m\u001b[0m\u001b[0m\n\u001b[0;32m    881\u001b[0m                 raise TypeError('Could not compare {typ} type with Series'\n",
      "\u001b[1;32m~\\AppData\\Local\\Continuum\\Anaconda3\\lib\\site-packages\\pandas\\core\\ops.py\u001b[0m in \u001b[0;36mna_op\u001b[1;34m(x, y)\u001b[0m\n\u001b[0;32m    816\u001b[0m                     \u001b[0mresult\u001b[0m \u001b[1;33m=\u001b[0m \u001b[0mgetattr\u001b[0m\u001b[1;33m(\u001b[0m\u001b[0mx\u001b[0m\u001b[1;33m,\u001b[0m \u001b[0mname\u001b[0m\u001b[1;33m)\u001b[0m\u001b[1;33m(\u001b[0m\u001b[0my\u001b[0m\u001b[1;33m)\u001b[0m\u001b[1;33m\u001b[0m\u001b[0m\n\u001b[0;32m    817\u001b[0m                 \u001b[1;32mif\u001b[0m \u001b[0mresult\u001b[0m \u001b[1;32mis\u001b[0m \u001b[0mNotImplemented\u001b[0m\u001b[1;33m:\u001b[0m\u001b[1;33m\u001b[0m\u001b[0m\n\u001b[1;32m--> 818\u001b[1;33m                     \u001b[1;32mraise\u001b[0m \u001b[0mTypeError\u001b[0m\u001b[1;33m(\u001b[0m\u001b[1;34m\"invalid type comparison\"\u001b[0m\u001b[1;33m)\u001b[0m\u001b[1;33m\u001b[0m\u001b[0m\n\u001b[0m\u001b[0;32m    819\u001b[0m             \u001b[1;32mexcept\u001b[0m \u001b[0mAttributeError\u001b[0m\u001b[1;33m:\u001b[0m\u001b[1;33m\u001b[0m\u001b[0m\n\u001b[0;32m    820\u001b[0m                 \u001b[0mresult\u001b[0m \u001b[1;33m=\u001b[0m \u001b[0mop\u001b[0m\u001b[1;33m(\u001b[0m\u001b[0mx\u001b[0m\u001b[1;33m,\u001b[0m \u001b[0my\u001b[0m\u001b[1;33m)\u001b[0m\u001b[1;33m\u001b[0m\u001b[0m\n",
      "\u001b[1;31mTypeError\u001b[0m: invalid type comparison"
     ]
    }
   ],
   "source": [
    "predictions[predictions['prediction']=='NBA']"
   ]
  },
  {
   "cell_type": "code",
   "execution_count": null,
   "metadata": {},
   "outputs": [],
   "source": [
    "best_classifier"
   ]
  },
  {
   "cell_type": "code",
   "execution_count": null,
   "metadata": {},
   "outputs": [],
   "source": []
  }
 ],
 "metadata": {
  "kernelspec": {
   "display_name": "Python 3",
   "language": "python",
   "name": "python3"
  },
  "language_info": {
   "codemirror_mode": {
    "name": "ipython",
    "version": 3
   },
   "file_extension": ".py",
   "mimetype": "text/x-python",
   "name": "python",
   "nbconvert_exporter": "python",
   "pygments_lexer": "ipython3",
   "version": "3.6.4"
  }
 },
 "nbformat": 4,
 "nbformat_minor": 2
}
